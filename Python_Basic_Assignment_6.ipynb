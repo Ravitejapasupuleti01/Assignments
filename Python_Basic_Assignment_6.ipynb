{
 "cells": [
  {
   "cell_type": "code",
   "execution_count": null,
   "id": "c9587ac3",
   "metadata": {},
   "outputs": [],
   "source": [
    "#1. What are escape characters, and how do you use them?\n",
    "To insert characters that are illegal in a string, use an escape character. An escape character is a backslash \\ followed by the character you want to insert"
   ]
  },
  {
   "cell_type": "raw",
   "id": "4e668611",
   "metadata": {},
   "source": [
    "2. What do the escape characters n and t stand for?\n",
    "\\n stands for newline\n",
    "\\t stands for tab"
   ]
  },
  {
   "cell_type": "raw",
   "id": "4685d79b",
   "metadata": {},
   "source": [
    "3. What is the way to include backslash characters in a string?\n",
    "To use double backslash"
   ]
  },
  {
   "cell_type": "raw",
   "id": "30e86c90",
   "metadata": {},
   "source": [
    "4. The string &quot;Howl&#39;s Moving Castle&quot; is a correct value. Why isn&#39;t the single quote character in the\n",
    "word Howl&#39;s not escaped a problem?\n",
    "the single quote in Howls is not escaped beacuse we did not use the escape character backslash-\"\\\""
   ]
  },
  {
   "cell_type": "raw",
   "id": "a0918fb1",
   "metadata": {},
   "source": [
    "5. How do you write a string of newlines if you don&#39;t want to use the n character?\n",
    "you can write by using \"\\n\" character"
   ]
  },
  {
   "cell_type": "raw",
   "id": "7793b7ed",
   "metadata": {},
   "source": [
    "6. What are the values of the given expressions?\n",
    "&#39;Hello, world!&#39;[1]\n",
    "&#39;Hello, world!&#39;[0:5]\n",
    "&#39;Hello, world!&#39;[:5]\n",
    "&#39;Hello, world!&#39;[3:]\n",
    "e\n",
    "Hello\n",
    "Hello\n",
    "lo,world!"
   ]
  },
  {
   "cell_type": "raw",
   "id": "eb47c9fe",
   "metadata": {},
   "source": [
    "7. What are the values of the following expressions?\n",
    "&#39;Hello&#39;.upper()\n",
    "&#39;Hello&#39;.upper().isupper()\n",
    "&#39;Hello&#39;.upper().lower()\n",
    "HELLO\n",
    "True\n",
    "hello"
   ]
  },
  {
   "cell_type": "raw",
   "id": "8cd96e5a",
   "metadata": {},
   "source": [
    "8. What are the values of the following expressions?\n",
    "&#39;Remember, remember, the fifth of July.&#39;.split()\n",
    "&#39;-&#39;.join(&#39;There can only one.&#39;.split())\n",
    "['Remember,', 'remember,', 'the', 'fifth', 'of', 'July.']\n",
    "'There-can-only-one.'"
   ]
  },
  {
   "cell_type": "raw",
   "id": "385df232",
   "metadata": {},
   "source": [
    "9. What are the methods for right-justifying, left-justifying, and centering a string?\n",
    "s.centre()\n",
    "s.ljust()\n",
    "s.rjust()"
   ]
  },
  {
   "cell_type": "raw",
   "id": "208dc564",
   "metadata": {},
   "source": [
    "10. What is the best way to remove whitespace characters from the start or end?\n",
    "s.strip()"
   ]
  }
 ],
 "metadata": {
  "kernelspec": {
   "display_name": "Python 3 (ipykernel)",
   "language": "python",
   "name": "python3"
  },
  "language_info": {
   "codemirror_mode": {
    "name": "ipython",
    "version": 3
   },
   "file_extension": ".py",
   "mimetype": "text/x-python",
   "name": "python",
   "nbconvert_exporter": "python",
   "pygments_lexer": "ipython3",
   "version": "3.9.7"
  }
 },
 "nbformat": 4,
 "nbformat_minor": 5
}
