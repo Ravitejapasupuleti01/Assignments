{
 "cells": [
  {
   "cell_type": "raw",
   "id": "294650f4",
   "metadata": {},
   "source": [
    "1. What does an empty dictionary&#39;s code look like?\n",
    "{}"
   ]
  },
  {
   "cell_type": "raw",
   "id": "eb9abbbb",
   "metadata": {},
   "source": [
    "2. What is the value of a dictionary value with the key &#39;foo&#39; and the value 42?\n",
    "d={\"foo\":42}\n",
    "42"
   ]
  },
  {
   "cell_type": "raw",
   "id": "8c0beb6c",
   "metadata": {},
   "source": [
    "3. What is the most significant distinction between a dictionary and a list?\n",
    "we access data in list using indexes,Where as in dictionaries,WE access using key and value pairs"
   ]
  },
  {
   "cell_type": "raw",
   "id": "30c4f62d",
   "metadata": {},
   "source": [
    "4. What happens if you try to access spam[&#39;foo&#39;] if spam is {&#39;bar&#39;: 100}?\n",
    "it will give you key error because we have given key which is not present in that dictionary"
   ]
  },
  {
   "cell_type": "raw",
   "id": "0f634fa1",
   "metadata": {},
   "source": [
    "5. If a dictionary is stored in spam, what is the difference between the expressions &#39;cat&#39; in spam and\n",
    "&#39;cat&#39; in spam.keys()?\n",
    "There is no difference"
   ]
  },
  {
   "cell_type": "raw",
   "id": "f561d6d0",
   "metadata": {},
   "source": [
    "6. If a dictionary is stored in spam, what is the difference between the expressions &#39;cat&#39; in spam and\n",
    "&#39;cat&#39; in spam.values()?\n",
    "there is no difference if cat is a one of values for keys in dictionary"
   ]
  },
  {
   "cell_type": "raw",
   "id": "4a3ebbeb",
   "metadata": {},
   "source": [
    "7. What is a shortcut for the following code?\n",
    "if &#39;color&#39; not in spam:\n",
    "spam[&#39;color&#39;] = &#39;black&#39;"
   ]
  },
  {
   "cell_type": "code",
   "execution_count": 6,
   "id": "06ed1399",
   "metadata": {},
   "outputs": [
    {
     "name": "stdout",
     "output_type": "stream",
     "text": [
      "ravi\n",
      "mg : 10\n",
      "ab : fav\n",
      "amma\n",
      "life : love\n"
     ]
    }
   ],
   "source": [
    "l={\"ravi\":{\"mg\":10,\"ab\":\"fav\"},\"amma\":{\"life\":\"love\"}}\n",
    "for i in l:\n",
    "    print(i)\n",
    "    for j in l[i]:\n",
    "        print(j,\":\",l[i][j])"
   ]
  },
  {
   "cell_type": "code",
   "execution_count": null,
   "id": "cf4643c6",
   "metadata": {},
   "outputs": [],
   "source": []
  },
  {
   "cell_type": "code",
   "execution_count": null,
   "id": "a78e2600",
   "metadata": {},
   "outputs": [],
   "source": []
  },
  {
   "cell_type": "code",
   "execution_count": null,
   "id": "3d487fed",
   "metadata": {},
   "outputs": [],
   "source": []
  },
  {
   "cell_type": "code",
   "execution_count": null,
   "id": "e24b530e",
   "metadata": {},
   "outputs": [],
   "source": []
  }
 ],
 "metadata": {
  "kernelspec": {
   "display_name": "Python 3 (ipykernel)",
   "language": "python",
   "name": "python3"
  },
  "language_info": {
   "codemirror_mode": {
    "name": "ipython",
    "version": 3
   },
   "file_extension": ".py",
   "mimetype": "text/x-python",
   "name": "python",
   "nbconvert_exporter": "python",
   "pygments_lexer": "ipython3",
   "version": "3.9.7"
  }
 },
 "nbformat": 4,
 "nbformat_minor": 5
}
