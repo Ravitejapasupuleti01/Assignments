{
 "cells": [
  {
   "cell_type": "raw",
   "id": "09f0a27f",
   "metadata": {},
   "source": [
    "1.What are the two values of the Boolean data type? How do you write them?\n",
    "the two values of boolean datatypes are True and False"
   ]
  },
  {
   "cell_type": "raw",
   "id": "06aa57c4",
   "metadata": {},
   "source": [
    "2. What are the three different types of Boolean operators?\n",
    "The three different types of boolean operators are :AND,OR,NOT"
   ]
  },
  {
   "cell_type": "raw",
   "id": "9874ab90",
   "metadata": {},
   "source": [
    "3. Make a list of each Boolean operator&#39;s truth tables (i.e. every possible combination of Boolean\n",
    "values for the operator and what it evaluate ).\n",
    "AND operator:\n",
    "posibility posibility result\n",
    "0           0         0\n",
    "1           0         0\n",
    "0           1         0\n",
    "1           1         1\n",
    "\n",
    "OR operator:\n",
    "posibility posibility result\n",
    "0          0           0\n",
    "1          0           1\n",
    "0          1           1 \n",
    "1          1           1\n",
    "\n",
    "NOT operator:\n",
    "posibility  result\n",
    "1           0\n",
    "0           1"
   ]
  },
  {
   "cell_type": "raw",
   "id": "83d0e225",
   "metadata": {},
   "source": [
    "4. What are the values of the following expressions?\n",
    "(5 > 4) and (3 == 5)\n",
    "0\n",
    "not (5 >4)\n",
    "0\n",
    "(5 > 4) or (3 == 5)\n",
    "1\n",
    "not ((5 > 4) or (3 == 5))\n",
    "0\n",
    "(True and True) and (True == False)\n",
    "False\n",
    "(not False) or (not True)\n",
    "True\n"
   ]
  },
  {
   "cell_type": "raw",
   "id": "b87c326c",
   "metadata": {},
   "source": [
    "5. What are the six comparison operators?\n",
    "==\n",
    "!=\n",
    "<\n",
    ">\n",
    "<=\n",
    ">="
   ]
  },
  {
   "cell_type": "raw",
   "id": "461a81a3",
   "metadata": {},
   "source": [
    "6. How do you tell the difference between the equal to and assignment operators?Describe a\n",
    "condition and when you would use one.\n",
    "\n",
    "if there are 2 variables and you want to know if they are equal or not.Then you can equal to operator,it will give True if they are equal,else it will give False"
   ]
  },
  {
   "cell_type": "code",
   "execution_count": 5,
   "id": "da7841ac",
   "metadata": {},
   "outputs": [
    {
     "name": "stdout",
     "output_type": "stream",
     "text": [
      "ham\n",
      "spam\n",
      "spam\n"
     ]
    }
   ],
   "source": [
    "#Identify the three blocks in this code:\n",
    "spam = 0\n",
    "if spam == 10:\n",
    "    print('eggs')\n",
    "if spam> 5:\n",
    "    print('bacon')\n",
    "else:\n",
    "    print('ham')\n",
    "    print('spam')\n",
    "    print('spam')"
   ]
  },
  {
   "cell_type": "code",
   "execution_count": null,
   "id": "85a2faee",
   "metadata": {},
   "outputs": [],
   "source": [
    "'''8. Write code that prints Hello if 1 is stored in spam, prints Howdy if 2 is stored in spam, and prints\n",
    "Greetings! if anything else is stored in spam.'''\n",
    "spam=int(input())\n",
    "if spam==1:\n",
    "    print('Hello')\n",
    "elif spam==2:\n",
    "    print('Howdy')\n",
    "else:\n",
    "    print('Greetings!')"
   ]
  },
  {
   "cell_type": "code",
   "execution_count": null,
   "id": "bde88894",
   "metadata": {},
   "outputs": [],
   "source": [
    "9.If your programme is stuck in an endless loop, what keys you’ll press?\n",
    "break"
   ]
  },
  {
   "cell_type": "code",
   "execution_count": null,
   "id": "d04f548a",
   "metadata": {},
   "outputs": [],
   "source": [
    "10. How can you tell the difference between break and continue?\n",
    "The main difference between break and continue statement is that when break keyword is encountered,\n",
    "it will exit the loop. In case of continue keyword, the current iteration that is running will be stopped,\n",
    "and it will proceed with the next iteration"
   ]
  },
  {
   "cell_type": "raw",
   "id": "f55d73b4",
   "metadata": {},
   "source": [
    "11. In a for loop, what is the difference between range(10), range(0, 10), and range(0, 10, 1)?\n",
    "range(10) ,range(0,10) and range(0,10,1) all are same they take value from o to 9 with increasing 1 value interval"
   ]
  },
  {
   "cell_type": "code",
   "execution_count": 8,
   "id": "df5c6acb",
   "metadata": {},
   "outputs": [
    {
     "name": "stdout",
     "output_type": "stream",
     "text": [
      "1\n",
      "2\n",
      "3\n",
      "4\n",
      "5\n",
      "6\n",
      "7\n",
      "8\n",
      "9\n",
      "10\n"
     ]
    }
   ],
   "source": [
    "'''12. Write a short program that prints the numbers 1 to 10 using a for loop. Then write an equivalent\n",
    "program that prints the numbers 1 to 10 using a while loop.'''\n",
    "for i in range(1,11):\n",
    "    print(i)"
   ]
  },
  {
   "cell_type": "code",
   "execution_count": 11,
   "id": "e825660d",
   "metadata": {},
   "outputs": [
    {
     "name": "stdout",
     "output_type": "stream",
     "text": [
      "1\n",
      "2\n",
      "3\n",
      "4\n",
      "5\n",
      "6\n",
      "7\n",
      "8\n",
      "9\n",
      "10\n"
     ]
    }
   ],
   "source": [
    "i=1\n",
    "while i<11:\n",
    "    print(i)\n",
    "    i=i+1"
   ]
  },
  {
   "cell_type": "code",
   "execution_count": null,
   "id": "52feba9a",
   "metadata": {},
   "outputs": [],
   "source": [
    "13. If you had a function named bacon() inside a module named spam, how would you call it after\n",
    "importing spam?\n",
    "spam.bacon()"
   ]
  }
 ],
 "metadata": {
  "kernelspec": {
   "display_name": "Python 3 (ipykernel)",
   "language": "python",
   "name": "python3"
  },
  "language_info": {
   "codemirror_mode": {
    "name": "ipython",
    "version": 3
   },
   "file_extension": ".py",
   "mimetype": "text/x-python",
   "name": "python",
   "nbconvert_exporter": "python",
   "pygments_lexer": "ipython3",
   "version": "3.9.7"
  }
 },
 "nbformat": 4,
 "nbformat_minor": 5
}
