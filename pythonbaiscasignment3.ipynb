{
 "cells": [
  {
   "cell_type": "raw",
   "id": "eeec98b3",
   "metadata": {},
   "source": [
    "1)Why are functions advantageous to have in your programs?\n",
    "it will reduce the need to write duplicate code.Once written inside function can be useful anywhere"
   ]
  },
  {
   "cell_type": "raw",
   "id": "b5951135",
   "metadata": {},
   "source": [
    "2. When does the code in a function run: when its specified or when its called?\n",
    "when its called\n"
   ]
  },
  {
   "cell_type": "raw",
   "id": "56fd975a",
   "metadata": {},
   "source": [
    "3. What statement creates a function?\n",
    "def statement creates a function in python"
   ]
  },
  {
   "cell_type": "raw",
   "id": "8e0bc29f",
   "metadata": {},
   "source": [
    "4.What is the difference between a function and a function call?\n",
    "function is where the code is written and function call is calling the function to execute that code to achieve desired result"
   ]
  },
  {
   "cell_type": "raw",
   "id": "d6e7fbd0",
   "metadata": {},
   "source": [
    "5. How many global scopes are there in a Python program? How many local scopes?\n",
    "there  is only one global scope and local scope in python\n",
    "\n",
    "\n"
   ]
  },
  {
   "cell_type": "raw",
   "id": "33315708",
   "metadata": {},
   "source": [
    "6. What happens to variables in a local scope when the function call returns?\n",
    "they will be dissappeared"
   ]
  },
  {
   "cell_type": "raw",
   "id": "67b6b823",
   "metadata": {},
   "source": [
    "7. What is the concept of a return value? Is it possible to have a return value in an expression?\n",
    "return value is something that function gives as result.Yes,it is possible to have a return value in an expression\n"
   ]
  },
  {
   "cell_type": "raw",
   "id": "fa94eee4",
   "metadata": {},
   "source": [
    "8. If a function does not have a return statement, what is the return value of a call to that function?\n",
    "It is not going to return anything"
   ]
  },
  {
   "cell_type": "raw",
   "id": "63a897c1",
   "metadata": {},
   "source": [
    "9. How do you make a function variable refer to the global variable?\n",
    "By using the global keyword"
   ]
  },
  {
   "cell_type": "raw",
   "id": "7bb2ef41",
   "metadata": {},
   "source": [
    "10. What is the data type of None?\n",
    "none is a datatype of class nontype object"
   ]
  },
  {
   "cell_type": "raw",
   "id": "9919ea2d",
   "metadata": {},
   "source": [
    "11. What does the sentence import areallyourpetsnamederic do?\n",
    "it imports a  module areallyourpetsnamederic"
   ]
  },
  {
   "cell_type": "raw",
   "id": "3fc2a1d9",
   "metadata": {},
   "source": [
    "12. If you had a bacon() feature in a spam module, what would you call it after importing spam?\n",
    "spam.bacon()"
   ]
  },
  {
   "cell_type": "raw",
   "id": "771b4bb8",
   "metadata": {},
   "source": [
    "13. What can you do to save a programme from crashing if it encounters an error?\n",
    "by using exception handling find the error through exception and correct it."
   ]
  },
  {
   "cell_type": "raw",
   "id": "fcaf41cd",
   "metadata": {},
   "source": [
    "14. What is the purpose of the try clause? What is the purpose of the except clause?\n",
    "Inside try clause we write our code and if there happens to be any error in it then it will jump intp except clause where usally we write code to find the error that occured"
   ]
  }
 ],
 "metadata": {
  "kernelspec": {
   "display_name": "Python 3 (ipykernel)",
   "language": "python",
   "name": "python3"
  },
  "language_info": {
   "codemirror_mode": {
    "name": "ipython",
    "version": 3
   },
   "file_extension": ".py",
   "mimetype": "text/x-python",
   "name": "python",
   "nbconvert_exporter": "python",
   "pygments_lexer": "ipython3",
   "version": "3.9.7"
  }
 },
 "nbformat": 4,
 "nbformat_minor": 5
}
