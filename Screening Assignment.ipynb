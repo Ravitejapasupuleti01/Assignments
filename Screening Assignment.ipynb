{
 "cells": [
  {
   "cell_type": "code",
   "execution_count": null,
   "id": "e69bd774",
   "metadata": {},
   "outputs": [],
   "source": [
    "with open('example.txt', 'r') as file :\n",
    "    filedata = file.read()\n",
    "filedata = filedata.replace('placement', 'screening')\n",
    "with open('example.txt','w') as file:\n",
    "    file.write(filedata)"
   ]
  },
  {
   "cell_type": "raw",
   "id": "9262b579",
   "metadata": {},
   "source": [
    "#Use of Abstract class\n",
    "A class containing more than one abstract method is called Abstract class\n",
    "from abc import ABC\n",
    "class Shape(ABC):\n",
    "    def calculate_area(self):\n"
   ]
  },
  {
   "cell_type": "raw",
   "id": "9429defc",
   "metadata": {},
   "source": [
    "#use of Multiple inheritance\n",
    "When a class is derived from more than one base class it is called multiple Inheritance. The derived class inherits all the features of the base classes\n",
    "class xyz:\n",
    "    print(\"I am\")\n",
    "class xyz1:\n",
    "    print(\"The\")\n",
    "class derived(xyz,xyz1):\n",
    "    print(\"Best\")\n",
    "\n"
   ]
  },
  {
   "cell_type": "raw",
   "id": "ed8d6b80",
   "metadata": {},
   "source": [
    "#use of decorator\n",
    "A decorator in Python is a function that takes another function as its argument, and returns yet another function.\n",
    "class Batch:\n",
    "    @static method\n",
    "    def batch1():\n",
    "        print(\"It is the decorator\"0"
   ]
  }
 ],
 "metadata": {
  "kernelspec": {
   "display_name": "Python 3 (ipykernel)",
   "language": "python",
   "name": "python3"
  },
  "language_info": {
   "codemirror_mode": {
    "name": "ipython",
    "version": 3
   },
   "file_extension": ".py",
   "mimetype": "text/x-python",
   "name": "python",
   "nbconvert_exporter": "python",
   "pygments_lexer": "ipython3",
   "version": "3.9.7"
  }
 },
 "nbformat": 4,
 "nbformat_minor": 5
}
