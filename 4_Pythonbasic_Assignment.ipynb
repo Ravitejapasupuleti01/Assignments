{
 "cells": [
  {
   "cell_type": "raw",
   "id": "1aca1b09",
   "metadata": {},
   "source": [
    "1. What exactly is []?\n",
    "it is a list"
   ]
  },
  {
   "cell_type": "raw",
   "id": "4a82535b",
   "metadata": {},
   "source": [
    "# 2. In a list of values stored in a variable called spam, how would you assign the value hello as #the third value? (Assume [2, 4, 6, 8, 10] are in spam.)\n",
    "l=[2, 4, 6, 8, 10]\n",
    "l.insert(2,'hello')\n",
    "l\n"
   ]
  },
  {
   "cell_type": "code",
   "execution_count": 6,
   "id": "cd94064e",
   "metadata": {},
   "outputs": [
    {
     "data": {
      "text/plain": [
       "'d'"
      ]
     },
     "execution_count": 6,
     "metadata": {},
     "output_type": "execute_result"
    }
   ],
   "source": [
    "#3. What is the value of spam[int(int('3') * 2) / 11)]?\n",
    "spam=['a','b','c','d']\n",
    "spam[int(int('3'* 2)/ 11)]"
   ]
  },
  {
   "cell_type": "code",
   "execution_count": 8,
   "id": "04bdcfc7",
   "metadata": {},
   "outputs": [
    {
     "ename": "SyntaxError",
     "evalue": "invalid syntax (Temp/ipykernel_7988/414564693.py, line 1)",
     "output_type": "error",
     "traceback": [
      "\u001b[1;36m  File \u001b[1;32m\"C:\\Users\\prt70\\AppData\\Local\\Temp/ipykernel_7988/414564693.py\"\u001b[1;36m, line \u001b[1;32m1\u001b[0m\n\u001b[1;33m    4. What is the value of spam[-1]?\u001b[0m\n\u001b[1;37m       ^\u001b[0m\n\u001b[1;31mSyntaxError\u001b[0m\u001b[1;31m:\u001b[0m invalid syntax\n"
     ]
    }
   ],
   "source": [
    "4. What is the value of spam[-1]?\n",
    "d"
   ]
  },
  {
   "cell_type": "code",
   "execution_count": 11,
   "id": "7b84888c",
   "metadata": {},
   "outputs": [
    {
     "name": "stdout",
     "output_type": "stream",
     "text": [
      "['a', 'b']\n"
     ]
    }
   ],
   "source": [
    "#5. What is the value of \n",
    "print(spam[:2])"
   ]
  },
  {
   "cell_type": "code",
   "execution_count": 14,
   "id": "deb6023a",
   "metadata": {},
   "outputs": [
    {
     "data": {
      "text/plain": [
       "1"
      ]
     },
     "execution_count": 14,
     "metadata": {},
     "output_type": "execute_result"
    }
   ],
   "source": [
    "bacon=[3.14, 'cat',11, 'cat', True]\n",
    "bacon.index('cat')"
   ]
  },
  {
   "cell_type": "code",
   "execution_count": 17,
   "id": "271873c0",
   "metadata": {},
   "outputs": [
    {
     "data": {
      "text/plain": [
       "[3.14, 'cat', 11, 'cat', True, 99, 99, 99]"
      ]
     },
     "execution_count": 17,
     "metadata": {},
     "output_type": "execute_result"
    }
   ],
   "source": [
    "bacon.append(99)\n",
    "bacon"
   ]
  },
  {
   "cell_type": "code",
   "execution_count": 20,
   "id": "91b38238",
   "metadata": {},
   "outputs": [
    {
     "ename": "ValueError",
     "evalue": "list.remove(x): x not in list",
     "output_type": "error",
     "traceback": [
      "\u001b[1;31m---------------------------------------------------------------------------\u001b[0m",
      "\u001b[1;31mValueError\u001b[0m                                Traceback (most recent call last)",
      "\u001b[1;32m~\\AppData\\Local\\Temp/ipykernel_7988/1918866390.py\u001b[0m in \u001b[0;36m<module>\u001b[1;34m\u001b[0m\n\u001b[1;32m----> 1\u001b[1;33m \u001b[0mbacon\u001b[0m\u001b[1;33m.\u001b[0m\u001b[0mremove\u001b[0m\u001b[1;33m(\u001b[0m\u001b[1;34m'cat'\u001b[0m\u001b[1;33m)\u001b[0m\u001b[1;33m\u001b[0m\u001b[1;33m\u001b[0m\u001b[0m\n\u001b[0m\u001b[0;32m      2\u001b[0m \u001b[0mbacon\u001b[0m\u001b[1;33m\u001b[0m\u001b[1;33m\u001b[0m\u001b[0m\n",
      "\u001b[1;31mValueError\u001b[0m: list.remove(x): x not in list"
     ]
    }
   ],
   "source": [
    "bacon.remove('cat')\n",
    "bacon"
   ]
  },
  {
   "cell_type": "raw",
   "id": "66b9ef2c",
   "metadata": {},
   "source": [
    "9) What are the list concatenation and list replication operators?\n",
    "for list concatenation we use + operator\n",
    "for list multiplication we use * operator"
   ]
  },
  {
   "cell_type": "raw",
   "id": "a8760ff3",
   "metadata": {},
   "source": [
    "10. What is difference between the list methods append() and insert()?\n",
    "append() will add the element atlast\n",
    "insert(index,object) will add element at a specified index"
   ]
  },
  {
   "cell_type": "raw",
   "id": "8f6a381c",
   "metadata": {},
   "source": [
    "11. What are the two methods for removing items from a list?\n",
    "list.remove() and list.discard()"
   ]
  },
  {
   "cell_type": "raw",
   "id": "d2a58fd3",
   "metadata": {},
   "source": [
    "12)Describe how list values and string values are identical.\n",
    "list values and string values both are of ordered type of collection"
   ]
  },
  {
   "cell_type": "raw",
   "id": "68e128d2",
   "metadata": {},
   "source": [
    "13. What&#39;s the difference between tuples and lists?\n",
    "list is mutable whereas tuple is immutable"
   ]
  },
  {
   "cell_type": "raw",
   "id": "dc2e34ae",
   "metadata": {},
   "source": [
    "14. How do you type a tuple value that only contains the integer 42?\n",
    "k=(42)"
   ]
  },
  {
   "cell_type": "raw",
   "id": "7fc9c01d",
   "metadata": {},
   "source": [
    "15. How do you get a list values tuple form? How do you get a tuple values list form?\n",
    "can be converted from list to tuple or tuple to list\n",
    "by list(tuple)\n",
    "tuple(list)"
   ]
  },
  {
   "cell_type": "raw",
   "id": "f0c7d952",
   "metadata": {},
   "source": [
    "16. Variables that &quot;contain&quot; list values are not necessarily lists themselves. Instead, what do they\n",
    "contain?\n",
    "they contain the values of a list"
   ]
  },
  {
   "cell_type": "raw",
   "id": "f3d53dca",
   "metadata": {},
   "source": [
    "17. How do you distinguish between copy.copy() and copy.deepcopy()?\n",
    "In copy.copy() any change we make in the existing copy os list it also will get reflected in the former list,But in the copy.deepcopy() whatever chage we make in existing copy it will not get reflected in former original list"
   ]
  }
 ],
 "metadata": {
  "kernelspec": {
   "display_name": "Python 3 (ipykernel)",
   "language": "python",
   "name": "python3"
  },
  "language_info": {
   "codemirror_mode": {
    "name": "ipython",
    "version": 3
   },
   "file_extension": ".py",
   "mimetype": "text/x-python",
   "name": "python",
   "nbconvert_exporter": "python",
   "pygments_lexer": "ipython3",
   "version": "3.9.7"
  }
 },
 "nbformat": 4,
 "nbformat_minor": 5
}
