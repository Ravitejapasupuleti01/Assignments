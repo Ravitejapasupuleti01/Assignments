{
 "cells": [
  {
   "cell_type": "raw",
   "id": "342fdb68",
   "metadata": {},
   "source": [
    "1)In the below elements which of them are values or an expression? eg:- values can be\n",
    "integer or string and expressions will be mathematical operators.\n",
    "*-mathematical operator\n",
    "hello-string\n",
    "-87.8-value or string\n",
    "--mathematical operator\n",
    "/-mathematical operator\n",
    "+-mathematical operator\n",
    "6-value or string"
   ]
  },
  {
   "cell_type": "raw",
   "id": "e29cba01",
   "metadata": {},
   "source": [
    "2)What is the difference between string and variable?\n",
    "string-sequence or collection of characters\n",
    "variable-it is used to store some data"
   ]
  },
  {
   "cell_type": "raw",
   "id": "a55df1f2",
   "metadata": {},
   "source": [
    "3. Describe three different data types.\n",
    "1-numeric-In numeric there are 3 datatypes-int(integer),float(number with decimal),complex(complex number)\n",
    "2-sequency-In numeric there are 3 datatypes-string,list,tuple\n",
    "3-booolean-True or False"
   ]
  },
  {
   "cell_type": "raw",
   "id": "c2538965",
   "metadata": {},
   "source": [
    "4. What is an expression made up of? What do all expressions do?\n",
    "An expresson is made up of variable and operators as per syntax of laguage.expression will help to give the required output"
   ]
  },
  {
   "cell_type": "raw",
   "id": "ecb06cef",
   "metadata": {},
   "source": [
    "5. This assignment statements, like spam = 10. What is the difference between an\n",
    "expression and a statement?\n",
    "expression is made of varaible and operaotrs and useful for geting output whereas statment is like a command "
   ]
  },
  {
   "cell_type": "raw",
   "id": "cf4ba951",
   "metadata": {},
   "source": [
    "6. After running the following code, what does the variable bacon contain?\n",
    "bacon = 22\n",
    "bacon + 1\n",
    "23"
   ]
  },
  {
   "cell_type": "raw",
   "id": "245d6b7a",
   "metadata": {},
   "source": [
    "7. What should the values of the following two terms be?\n",
    "'spam'+'spamspam'----spamspamspam\n",
    "'spam'*3-------------spamspamspam"
   ]
  },
  {
   "cell_type": "raw",
   "id": "b5cdec07",
   "metadata": {},
   "source": [
    "8. Why is eggs a valid variable name while 100 is invalid?\n",
    "100 is invalid variable because i starts with a number"
   ]
  },
  {
   "cell_type": "raw",
   "id": "0abe1fd7",
   "metadata": {},
   "source": [
    "9. What three functions can be used to get the integer, floating-point number, or string\n",
    "version of a value?\n",
    "for integer-int()\n",
    "for floating-point number-float()\n",
    "for string-str()"
   ]
  },
  {
   "cell_type": "raw",
   "id": "ca6239b7",
   "metadata": {},
   "source": [
    "10. Why does this expression cause an error? How can you fix it?\n",
    "'I have eaten'+99+'buritos'\n",
    "because you are trying to add string with integer ,It is not supported\n",
    "we can fix this by changing the 99 to string form by'99'\n",
    "'I have eaten'+'99'+'buritos'"
   ]
  }
 ],
 "metadata": {
  "kernelspec": {
   "display_name": "Python 3 (ipykernel)",
   "language": "python",
   "name": "python3"
  },
  "language_info": {
   "codemirror_mode": {
    "name": "ipython",
    "version": 3
   },
   "file_extension": ".py",
   "mimetype": "text/x-python",
   "name": "python",
   "nbconvert_exporter": "python",
   "pygments_lexer": "ipython3",
   "version": "3.9.7"
  }
 },
 "nbformat": 4,
 "nbformat_minor": 5
}
