{
 "cells": [
  {
   "cell_type": "code",
   "execution_count": 3,
   "id": "a0e09e52",
   "metadata": {},
   "outputs": [
    {
     "name": "stdout",
     "output_type": "stream",
     "text": [
      "67\n",
      "That is 41.631857000000004 miles\n"
     ]
    }
   ],
   "source": [
    "#1. Write a Python program to convert kilometers to miles?\n",
    "kilometers=int(input())\n",
    "print(\"That is\",0.621371*kilometers,\"miles\")"
   ]
  },
  {
   "cell_type": "code",
   "execution_count": 6,
   "id": "3d637238",
   "metadata": {},
   "outputs": [
    {
     "name": "stdout",
     "output_type": "stream",
     "text": [
      "67\n",
      "152.6 farenheit\n"
     ]
    }
   ],
   "source": [
    "celsius=int(input())\n",
    "print(round((1.8*celsius)+32,3),\"farenheit\")"
   ]
  },
  {
   "cell_type": "code",
   "execution_count": 14,
   "id": "4e8110ed",
   "metadata": {},
   "outputs": [
    {
     "name": "stdout",
     "output_type": "stream",
     "text": [
      "     March 2022\n",
      "Mo Tu We Th Fr Sa Su\n",
      "    1  2  3  4  5  6\n",
      " 7  8  9 10 11 12 13\n",
      "14 15 16 17 18 19 20\n",
      "21 22 23 24 25 26 27\n",
      "28 29 30 31\n",
      "\n"
     ]
    }
   ],
   "source": [
    "#3. Write a Python program to display calendar?\n",
    "import calendar\n",
    "cal=calendar.month(2022,3)\n",
    "print(cal)"
   ]
  },
  {
   "cell_type": "code",
   "execution_count": 2,
   "id": "831708bf",
   "metadata": {},
   "outputs": [
    {
     "name": "stdout",
     "output_type": "stream",
     "text": [
      "2\n",
      "3\n",
      "4\n",
      "(-3-4.795831523312719j) (-3+4.795831523312719j)\n"
     ]
    }
   ],
   "source": [
    "#4. Write a Python program to solve quadratic equation?\n",
    "#ax^2+bx+c\n",
    "#x=(-b+(b^2-4ac)^1/2)/2a,x=(-b-(b^2-4ac)^1/2)/2a\n",
    "import cmath\n",
    "a=int(input())\n",
    "b=int(input())\n",
    "c=int(input())\n",
    "d=b**2-4*a*c\n",
    "sol1=(-b-cmath.sqrt(d))/2*a\n",
    "sol2=(-b+cmath.sqrt(d))/2*a\n",
    "print(sol1,sol2)\n"
   ]
  },
  {
   "cell_type": "code",
   "execution_count": 3,
   "id": "a1fc3694",
   "metadata": {},
   "outputs": [
    {
     "name": "stdout",
     "output_type": "stream",
     "text": [
      "20\n",
      "50\n",
      "after swaping a and b are 50 20\n"
     ]
    }
   ],
   "source": [
    "#5. Write a Python program to swap two variables without temp variable?\n",
    "a=int(input())\n",
    "b=int(input())\n",
    "a=a+b\n",
    "b=a-b\n",
    "a=a-b\n",
    "print(\"after swaping a and b are\",a,b)"
   ]
  }
 ],
 "metadata": {
  "kernelspec": {
   "display_name": "Python 3 (ipykernel)",
   "language": "python",
   "name": "python3"
  },
  "language_info": {
   "codemirror_mode": {
    "name": "ipython",
    "version": 3
   },
   "file_extension": ".py",
   "mimetype": "text/x-python",
   "name": "python",
   "nbconvert_exporter": "python",
   "pygments_lexer": "ipython3",
   "version": "3.9.7"
  }
 },
 "nbformat": 4,
 "nbformat_minor": 5
}
