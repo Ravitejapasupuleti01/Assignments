{
 "cells": [
  {
   "cell_type": "code",
   "execution_count": null,
   "id": "842bdb73",
   "metadata": {},
   "outputs": [],
   "source": [
    "#1)Write a Python program to print Hello python?\n",
    "print('Hello Python')"
   ]
  },
  {
   "cell_type": "code",
   "execution_count": null,
   "id": "2aca16f8",
   "metadata": {},
   "outputs": [],
   "source": [
    "#2)write a program to perform arithmetical operations like addition and substraction?\n",
    "a=int(input())\n",
    "b=int(input())\n",
    "print(a+b)#addition\n",
    "print(a-b)#substraction"
   ]
  },
  {
   "cell_type": "code",
   "execution_count": null,
   "id": "6cc19f92",
   "metadata": {},
   "outputs": [],
   "source": [
    "#3)write a program to find the area of triangle\n",
    "base=int(input())\n",
    "height=int(input())\n",
    "k=base*height\n",
    "print('area=',k/2)"
   ]
  },
  {
   "cell_type": "code",
   "execution_count": 7,
   "id": "d07e66e1",
   "metadata": {},
   "outputs": [
    {
     "name": "stdout",
     "output_type": "stream",
     "text": [
      "values of a and b after swaping are a= 8 and b= 3\n"
     ]
    }
   ],
   "source": [
    "#4)write a program to swap two variables?\n",
    "a=3\n",
    "b=8\n",
    "n=b\n",
    "b=a\n",
    "a=n\n",
    "print('values of a and b after swaping are a=',a,'and b=', b)"
   ]
  },
  {
   "cell_type": "code",
   "execution_count": 39,
   "id": "64ff822e",
   "metadata": {},
   "outputs": [
    {
     "name": "stdout",
     "output_type": "stream",
     "text": [
      "random number is 0.05079168051047078\n"
     ]
    }
   ],
   "source": [
    "#5)write a python proram to generate random number\n",
    "import random\n",
    "number=random.random()\n",
    "print('random number is',number)"
   ]
  }
 ],
 "metadata": {
  "kernelspec": {
   "display_name": "Python 3 (ipykernel)",
   "language": "python",
   "name": "python3"
  },
  "language_info": {
   "codemirror_mode": {
    "name": "ipython",
    "version": 3
   },
   "file_extension": ".py",
   "mimetype": "text/x-python",
   "name": "python",
   "nbconvert_exporter": "python",
   "pygments_lexer": "ipython3",
   "version": "3.9.7"
  }
 },
 "nbformat": 4,
 "nbformat_minor": 5
}
